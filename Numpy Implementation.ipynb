{
 "cells": [
  {
   "cell_type": "markdown",
   "id": "1566b970",
   "metadata": {},
   "source": [
    "You are provided with 2 lists that contain the data of an ecommerce website. The first list contains the data for the number of items sold for a particular product and the second list contains the price of the product sold. As a part of this exercise, solve the questions that are provided below."
   ]
  },
  {
   "cell_type": "code",
   "execution_count": 23,
   "id": "37d35c64",
   "metadata": {},
   "outputs": [],
   "source": [
    "import numpy as np\n",
    "\n",
    "number = [8, 9, 9, 1, 6, 9, 5, 7, 3, 9, 7, 3, 4, 8, 3, 5, 8, 4, 8, 7, 5, 7, 3, 6, 1, 2, 7, 4, 7, 7, 8, 4, 3, 4, 2, 2, 2, 7, 3, 5, 6, 1, 1, 3, 2, 1, 1, 7, 7, 1, 4, 4, 5, 6, 1, 2, 7, 4, 5, 8, 1, 4, 8, 6, 2, 4, 3, 7, 3, 6, 2, 3, 3, 3, 2, 4, 6, 8, 9, 3, 9, 3, 1, 8, 6, 6, 3, 3, 9, 4, 6, 4, 9, 6, 7, 1, 2, 8, 7, 8, 1, 4]\n",
    "price = [195, 225, 150, 150, 90, 60, 75, 255, 270, 225, 135, 195, 30, 15, 210, 105, 15, 30, 180, 60, 165, 60, 45, 225, 180, 90, 30, 210, 150, 15, 270, 60, 210, 180, 60, 225, 150, 150, 120, 195, 75, 240, 60, 45, 30, 180, 240, 285, 135, 165, 180, 240, 60, 105, 165, 240, 120, 45, 120, 165, 285, 225, 90, 105, 225, 45, 45, 45, 75, 180, 90, 240, 30, 30, 60, 135, 180, 15, 255, 180, 270, 135, 105, 135, 210, 180, 135, 195, 225, 75, 225, 15, 240, 60, 15, 180, 255, 90, 15, 150, 230, 150]"
   ]
  },
  {
   "cell_type": "markdown",
   "id": "0e5fc5d1",
   "metadata": {},
   "source": [
    "How many different products are sold by the company in total?"
   ]
  },
  {
   "cell_type": "code",
   "execution_count": 24,
   "id": "bdaad3e2",
   "metadata": {},
   "outputs": [
    {
     "data": {
      "text/plain": [
       "102"
      ]
     },
     "execution_count": 24,
     "metadata": {},
     "output_type": "execute_result"
    }
   ],
   "source": [
    "import numpy as np\n",
    "numberOfProducts=np.array(number)\n",
    "\n",
    "numberOfProducts.size"
   ]
  },
  {
   "cell_type": "markdown",
   "id": "69e56a30",
   "metadata": {},
   "source": [
    "How many items were sold in total?"
   ]
  },
  {
   "cell_type": "code",
   "execution_count": 25,
   "id": "14d9e5a4",
   "metadata": {},
   "outputs": [
    {
     "data": {
      "text/plain": [
       "490"
      ]
     },
     "execution_count": 25,
     "metadata": {},
     "output_type": "execute_result"
    }
   ],
   "source": [
    "numberOfProducts.sum()"
   ]
  },
  {
   "cell_type": "markdown",
   "id": "7d3e76a2",
   "metadata": {},
   "source": [
    "What is the average price of the products sold by the ecommerce company?"
   ]
  },
  {
   "cell_type": "code",
   "execution_count": 13,
   "id": "dfb9c174",
   "metadata": {},
   "outputs": [
    {
     "data": {
      "text/plain": [
       "139.01960784313727"
      ]
     },
     "execution_count": 13,
     "metadata": {},
     "output_type": "execute_result"
    }
   ],
   "source": [
    "price=np.array(price)\n",
    "\n",
    "price.mean()"
   ]
  },
  {
   "cell_type": "markdown",
   "id": "7372b2bd",
   "metadata": {},
   "source": [
    "What is the price of the costliest item sold?"
   ]
  },
  {
   "cell_type": "code",
   "execution_count": 14,
   "id": "9a70f2f2",
   "metadata": {},
   "outputs": [
    {
     "data": {
      "text/plain": [
       "285"
      ]
     },
     "execution_count": 14,
     "metadata": {},
     "output_type": "execute_result"
    }
   ],
   "source": [
    "price.max()"
   ]
  },
  {
   "cell_type": "markdown",
   "id": "6ff72c6c",
   "metadata": {},
   "source": [
    "What is the total revenue of the company? [Revenue = Price*Quantity]"
   ]
  },
  {
   "cell_type": "code",
   "execution_count": 16,
   "id": "0c71923d",
   "metadata": {},
   "outputs": [
    {
     "data": {
      "text/plain": [
       "67100"
      ]
     },
     "execution_count": 16,
     "metadata": {},
     "output_type": "execute_result"
    }
   ],
   "source": [
    "Revenue= (price*number).sum()\n",
    "#Revenue=Revenue.sum()\n",
    "Revenue"
   ]
  },
  {
   "cell_type": "markdown",
   "id": "18fd9871",
   "metadata": {},
   "source": [
    "Demand for the 20th product in the list is more than the 50th product. [True/False]"
   ]
  },
  {
   "cell_type": "code",
   "execution_count": 17,
   "id": "fb196a9f",
   "metadata": {},
   "outputs": [
    {
     "data": {
      "text/plain": [
       "True"
      ]
     },
     "execution_count": 17,
     "metadata": {},
     "output_type": "execute_result"
    }
   ],
   "source": [
    "number[19]>number[49]"
   ]
  },
  {
   "cell_type": "code",
   "execution_count": 20,
   "id": "46e5942a",
   "metadata": {},
   "outputs": [
    {
     "data": {
      "text/plain": [
       "1"
      ]
     },
     "execution_count": 20,
     "metadata": {},
     "output_type": "execute_result"
    }
   ],
   "source": [
    "number[49]"
   ]
  },
  {
   "cell_type": "code",
   "execution_count": 21,
   "id": "323468fb",
   "metadata": {},
   "outputs": [
    {
     "data": {
      "text/plain": [
       "7"
      ]
     },
     "execution_count": 21,
     "metadata": {},
     "output_type": "execute_result"
    }
   ],
   "source": [
    "number[19]"
   ]
  },
  {
   "cell_type": "markdown",
   "id": "f7ab22dd",
   "metadata": {},
   "source": [
    "How many products fall under the category of expensive goods? An expensive good is that good whose price is more than the average price of the products sold by the company."
   ]
  },
  {
   "cell_type": "code",
   "execution_count": 22,
   "id": "f743aa56",
   "metadata": {},
   "outputs": [
    {
     "data": {
      "text/plain": [
       "52"
      ]
     },
     "execution_count": 22,
     "metadata": {},
     "output_type": "execute_result"
    }
   ],
   "source": [
    "price[price > price.mean()].size"
   ]
  }
 ],
 "metadata": {
  "kernelspec": {
   "display_name": "Python 3 (ipykernel)",
   "language": "python",
   "name": "python3"
  },
  "language_info": {
   "codemirror_mode": {
    "name": "ipython",
    "version": 3
   },
   "file_extension": ".py",
   "mimetype": "text/x-python",
   "name": "python",
   "nbconvert_exporter": "python",
   "pygments_lexer": "ipython3",
   "version": "3.10.0"
  }
 },
 "nbformat": 4,
 "nbformat_minor": 5
}
